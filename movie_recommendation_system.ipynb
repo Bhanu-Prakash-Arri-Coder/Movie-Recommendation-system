{
  "nbformat": 4,
  "nbformat_minor": 0,
  "metadata": {
    "colab": {
      "name": "Untitled19.ipynb",
      "version": "0.3.2",
      "provenance": [],
      "collapsed_sections": [],
      "include_colab_link": true
    },
    "kernelspec": {
      "name": "python3",
      "display_name": "Python 3"
    }
  },
  "cells": [
    {
      "cell_type": "markdown",
      "metadata": {
        "id": "view-in-github",
        "colab_type": "text"
      },
      "source": [
        "<a href=\"https://colab.research.google.com/github/Bhanu-Prakash-Arri/Movie-Recommendation-system/blob/master/movie_recommendation_system.ipynb\" target=\"_parent\"><img src=\"https://colab.research.google.com/assets/colab-badge.svg\" alt=\"Open In Colab\"/></a>"
      ]
    },
    {
      "cell_type": "code",
      "metadata": {
        "id": "3tsjPBbpMJdH",
        "colab_type": "code",
        "outputId": "e8ffab8b-1ba9-4439-9c6b-66fc17814c68",
        "colab": {
          "base_uri": "https://localhost:8080/",
          "height": 109
        }
      },
      "source": [
        "\n",
        "\n",
        "# keras.datasets.imdb is broken in 1.13 and 1.14, by np 1.16.3\n",
        "!pip install -q tf_nightly\n",
        "\n"
      ],
      "execution_count": 0,
      "outputs": [
        {
          "output_type": "stream",
          "text": [
            "\u001b[K     |████████████████████████████████| 110.8MB 66.2MB/s \n",
            "\u001b[K     |████████████████████████████████| 71kB 22.9MB/s \n",
            "\u001b[K     |████████████████████████████████| 512kB 35.2MB/s \n",
            "\u001b[K     |████████████████████████████████| 4.1MB 50.0MB/s \n",
            "\u001b[?25h  Building wheel for opt-einsum (setup.py) ... \u001b[?25l\u001b[?25hdone\n"
          ],
          "name": "stdout"
        }
      ]
    },
    {
      "cell_type": "code",
      "metadata": {
        "id": "YpoJPDKmWNJ-",
        "colab_type": "code",
        "outputId": "0394bd5a-d4f4-49cd-c8f8-1ffa9c3b0f64",
        "colab": {
          "base_uri": "https://localhost:8080/",
          "height": 293
        }
      },
      "source": [
        "from __future__ import absolute_import, division, print_function, unicode_literals\n",
        "\n",
        "import tensorflow as tf\n",
        "from tensorflow import keras\n",
        "\n",
        "import numpy as np\n",
        "\n",
        "print(tf.__version__)\n"
      ],
      "execution_count": 0,
      "outputs": [
        {
          "output_type": "stream",
          "text": [
            "WARNING: Logging before flag parsing goes to stderr.\n",
            "W0820 09:16:47.640506 140350785320832 __init__.py:690] \n",
            "\n",
            "  TensorFlow's `tf-nightly` package will soon be updated to TensorFlow 2.0.\n",
            "\n",
            "  Please upgrade your code to TensorFlow 2.0:\n",
            "    * https://www.tensorflow.org/beta/guide/migration_guide\n",
            "\n",
            "  Or install the latest stable TensorFlow 1.X release:\n",
            "    * `pip install -U \"tensorflow==1.*\"`\n",
            "\n",
            "  Otherwise your code may be broken by the change.\n",
            "\n",
            "  \n"
          ],
          "name": "stderr"
        },
        {
          "output_type": "stream",
          "text": [
            "1.15.0-dev20190820\n"
          ],
          "name": "stdout"
        }
      ]
    },
    {
      "cell_type": "code",
      "metadata": {
        "id": "iqQB74mIMYAu",
        "colab_type": "code",
        "outputId": "1e2c4ff7-787a-4439-8e5c-a0208c4f51e6",
        "colab": {
          "base_uri": "https://localhost:8080/",
          "height": 54
        }
      },
      "source": [
        "imdb = keras.datasets.imdb\n",
        "\n",
        "(train_data, train_labels), (test_data, test_labels) = imdb.load_data(num_words=10000)\n"
      ],
      "execution_count": 0,
      "outputs": [
        {
          "output_type": "stream",
          "text": [
            "Downloading data from https://storage.googleapis.com/tensorflow/tf-keras-datasets/imdb.npz\n",
            "17465344/17464789 [==============================] - 0s 0us/step\n"
          ],
          "name": "stdout"
        }
      ]
    },
    {
      "cell_type": "code",
      "metadata": {
        "id": "G5J9MZOhWc5z",
        "colab_type": "code",
        "outputId": "1f91cd9a-1fbd-43b5-98ce-b88c8a5053e9",
        "colab": {
          "base_uri": "https://localhost:8080/",
          "height": 35
        }
      },
      "source": [
        "print(\"Training entries: {}, labels: {}\".format(len(train_data), len(train_labels)))\n"
      ],
      "execution_count": 0,
      "outputs": [
        {
          "output_type": "stream",
          "text": [
            "Training entries: 25000, labels: 25000\n"
          ],
          "name": "stdout"
        }
      ]
    },
    {
      "cell_type": "code",
      "metadata": {
        "id": "QsNAsyqJWgUs",
        "colab_type": "code",
        "outputId": "4d30546c-3741-4897-d5d9-941188efcf1d",
        "colab": {
          "base_uri": "https://localhost:8080/",
          "height": 55
        }
      },
      "source": [
        "print(train_data[0])\n"
      ],
      "execution_count": 0,
      "outputs": [
        {
          "output_type": "stream",
          "text": [
            "[1, 14, 22, 16, 43, 530, 973, 1622, 1385, 65, 458, 4468, 66, 3941, 4, 173, 36, 256, 5, 25, 100, 43, 838, 112, 50, 670, 2, 9, 35, 480, 284, 5, 150, 4, 172, 112, 167, 2, 336, 385, 39, 4, 172, 4536, 1111, 17, 546, 38, 13, 447, 4, 192, 50, 16, 6, 147, 2025, 19, 14, 22, 4, 1920, 4613, 469, 4, 22, 71, 87, 12, 16, 43, 530, 38, 76, 15, 13, 1247, 4, 22, 17, 515, 17, 12, 16, 626, 18, 2, 5, 62, 386, 12, 8, 316, 8, 106, 5, 4, 2223, 5244, 16, 480, 66, 3785, 33, 4, 130, 12, 16, 38, 619, 5, 25, 124, 51, 36, 135, 48, 25, 1415, 33, 6, 22, 12, 215, 28, 77, 52, 5, 14, 407, 16, 82, 2, 8, 4, 107, 117, 5952, 15, 256, 4, 2, 7, 3766, 5, 723, 36, 71, 43, 530, 476, 26, 400, 317, 46, 7, 4, 2, 1029, 13, 104, 88, 4, 381, 15, 297, 98, 32, 2071, 56, 26, 141, 6, 194, 7486, 18, 4, 226, 22, 21, 134, 476, 26, 480, 5, 144, 30, 5535, 18, 51, 36, 28, 224, 92, 25, 104, 4, 226, 65, 16, 38, 1334, 88, 12, 16, 283, 5, 16, 4472, 113, 103, 32, 15, 16, 5345, 19, 178, 32]\n"
          ],
          "name": "stdout"
        }
      ]
    },
    {
      "cell_type": "code",
      "metadata": {
        "id": "5_0TLra5WjSs",
        "colab_type": "code",
        "outputId": "7fce824b-04d9-41df-ac27-47f53986af61",
        "colab": {
          "base_uri": "https://localhost:8080/",
          "height": 35
        }
      },
      "source": [
        "len(train_data[0]), len(train_data[1])\n"
      ],
      "execution_count": 0,
      "outputs": [
        {
          "output_type": "execute_result",
          "data": {
            "text/plain": [
              "(218, 189)"
            ]
          },
          "metadata": {
            "tags": []
          },
          "execution_count": 9
        }
      ]
    },
    {
      "cell_type": "code",
      "metadata": {
        "id": "le9MrpJRWpLM",
        "colab_type": "code",
        "outputId": "14526605-2dbd-4a4a-b440-abfccbbc4567",
        "colab": {
          "base_uri": "https://localhost:8080/",
          "height": 54
        }
      },
      "source": [
        "# A dictionary mapping words to an integer index\n",
        "word_index = imdb.get_word_index()\n",
        "\n",
        "# The first indices are reserved\n",
        "word_index = {k:(v+3) for k,v in word_index.items()}\n",
        "word_index[\"<PAD>\"] = 0\n",
        "word_index[\"<START>\"] = 1\n",
        "word_index[\"<UNK>\"] = 2  # unknown\n",
        "word_index[\"<UNUSED>\"] = 3\n",
        "\n",
        "reverse_word_index = dict([(value, key) for (key, value) in word_index.items()])\n",
        "\n",
        "def decode_review(text):\n",
        "    return ' '.join([reverse_word_index.get(i, '?') for i in text])\n"
      ],
      "execution_count": 0,
      "outputs": [
        {
          "output_type": "stream",
          "text": [
            "Downloading data from https://storage.googleapis.com/tensorflow/tf-keras-datasets/imdb_word_index.json\n",
            "1646592/1641221 [==============================] - 0s 0us/step\n"
          ],
          "name": "stdout"
        }
      ]
    },
    {
      "cell_type": "code",
      "metadata": {
        "id": "TiLkkVa5WsZz",
        "colab_type": "code",
        "outputId": "b20319b0-ef46-4c22-b960-ae1e03e2fb5b",
        "colab": {
          "base_uri": "https://localhost:8080/",
          "height": 55
        }
      },
      "source": [
        "decode_review(train_data[0])\n"
      ],
      "execution_count": 0,
      "outputs": [
        {
          "output_type": "execute_result",
          "data": {
            "text/plain": [
              "\"<START> this film was just brilliant casting location scenery story direction everyone's really suited the part they played and you could just imagine being there robert <UNK> is an amazing actor and now the same being director <UNK> father came from the same scottish island as myself so i loved the fact there was a real connection with this film the witty remarks throughout the film were great it was just brilliant so much that i bought the film as soon as it was released for <UNK> and would recommend it to everyone to watch and the fly fishing was amazing really cried at the end it was so sad and you know what they say if you cry at a film it must have been good and this definitely was also <UNK> to the two little boy's that played the <UNK> of norman and paul they were just brilliant children are often left out of the <UNK> list i think because the stars that play them all grown up are such a big profile for the whole film but these children are amazing and should be praised for what they have done don't you think the whole story was so lovely because it was true and was someone's life after all that was shared with us all\""
            ]
          },
          "metadata": {
            "tags": []
          },
          "execution_count": 11
        }
      ]
    },
    {
      "cell_type": "markdown",
      "metadata": {
        "id": "ZnwWrL0fp0n9",
        "colab_type": "text"
      },
      "source": [
        ""
      ]
    },
    {
      "cell_type": "code",
      "metadata": {
        "id": "gH_F4YN2XHla",
        "colab_type": "code",
        "colab": {}
      },
      "source": [
        "train_data = keras.preprocessing.sequence.pad_sequences(train_data,\n",
        "                                                        value=word_index[\"<PAD>\"],\n",
        "                                                        padding='post',\n",
        "                                                        maxlen=256)\n",
        "\n",
        "test_data = keras.preprocessing.sequence.pad_sequences(test_data,\n",
        "                                                       value=word_index[\"<PAD>\"],\n",
        "                                                       padding='post',\n",
        "                                                       maxlen=256)\n"
      ],
      "execution_count": 0,
      "outputs": []
    },
    {
      "cell_type": "code",
      "metadata": {
        "id": "l_gmFQMJXLx5",
        "colab_type": "code",
        "outputId": "4407cf41-6008-4086-9147-150d6a5ddcc0",
        "colab": {
          "base_uri": "https://localhost:8080/",
          "height": 35
        }
      },
      "source": [
        "len(train_data[0]), len(train_data[1])\n"
      ],
      "execution_count": 0,
      "outputs": [
        {
          "output_type": "execute_result",
          "data": {
            "text/plain": [
              "(256, 256)"
            ]
          },
          "metadata": {
            "tags": []
          },
          "execution_count": 13
        }
      ]
    },
    {
      "cell_type": "code",
      "metadata": {
        "id": "NkAr22dMXOf0",
        "colab_type": "code",
        "outputId": "44a2db4f-24f1-4fed-dd8e-51762d905114",
        "colab": {
          "base_uri": "https://localhost:8080/",
          "height": 366
        }
      },
      "source": [
        "print(train_data[0])\n"
      ],
      "execution_count": 0,
      "outputs": [
        {
          "output_type": "stream",
          "text": [
            "[   1   14   22   16   43  530  973 1622 1385   65  458 4468   66 3941\n",
            "    4  173   36  256    5   25  100   43  838  112   50  670    2    9\n",
            "   35  480  284    5  150    4  172  112  167    2  336  385   39    4\n",
            "  172 4536 1111   17  546   38   13  447    4  192   50   16    6  147\n",
            " 2025   19   14   22    4 1920 4613  469    4   22   71   87   12   16\n",
            "   43  530   38   76   15   13 1247    4   22   17  515   17   12   16\n",
            "  626   18    2    5   62  386   12    8  316    8  106    5    4 2223\n",
            " 5244   16  480   66 3785   33    4  130   12   16   38  619    5   25\n",
            "  124   51   36  135   48   25 1415   33    6   22   12  215   28   77\n",
            "   52    5   14  407   16   82    2    8    4  107  117 5952   15  256\n",
            "    4    2    7 3766    5  723   36   71   43  530  476   26  400  317\n",
            "   46    7    4    2 1029   13  104   88    4  381   15  297   98   32\n",
            " 2071   56   26  141    6  194 7486   18    4  226   22   21  134  476\n",
            "   26  480    5  144   30 5535   18   51   36   28  224   92   25  104\n",
            "    4  226   65   16   38 1334   88   12   16  283    5   16 4472  113\n",
            "  103   32   15   16 5345   19  178   32    0    0    0    0    0    0\n",
            "    0    0    0    0    0    0    0    0    0    0    0    0    0    0\n",
            "    0    0    0    0    0    0    0    0    0    0    0    0    0    0\n",
            "    0    0    0    0]\n"
          ],
          "name": "stdout"
        }
      ]
    },
    {
      "cell_type": "code",
      "metadata": {
        "id": "oCLF9bABXYhp",
        "colab_type": "code",
        "outputId": "78c27288-002e-447e-f615-4fbd99e104e8",
        "colab": {
          "base_uri": "https://localhost:8080/",
          "height": 441
        }
      },
      "source": [
        "# input shape is the vocabulary count used for the movie reviews (10,000 words)\n",
        "vocab_size = 10000\n",
        "\n",
        "model = keras.Sequential()\n",
        "model.add(keras.layers.Embedding(vocab_size, 16))\n",
        "model.add(keras.layers.GlobalAveragePooling1D())\n",
        "model.add(keras.layers.Dense(16, activation=tf.nn.relu))\n",
        "model.add(keras.layers.Dense(1, activation=tf.nn.relu))\n",
        "\n",
        "model.summary()\n"
      ],
      "execution_count": 0,
      "outputs": [
        {
          "output_type": "stream",
          "text": [
            "W0820 09:21:52.637661 140350785320832 deprecation.py:506] From /usr/local/lib/python3.6/dist-packages/tensorflow_core/python/keras/initializers.py:119: calling RandomUniform.__init__ (from tensorflow.python.ops.init_ops) with dtype is deprecated and will be removed in a future version.\n",
            "Instructions for updating:\n",
            "Call initializer instance with the dtype argument instead of passing it to the constructor\n",
            "W0820 09:21:52.666482 140350785320832 deprecation.py:506] From /usr/local/lib/python3.6/dist-packages/tensorflow_core/python/ops/resource_variable_ops.py:1630: calling BaseResourceVariable.__init__ (from tensorflow.python.ops.resource_variable_ops) with constraint is deprecated and will be removed in a future version.\n",
            "Instructions for updating:\n",
            "If using Keras pass *_constraint arguments to layers.\n"
          ],
          "name": "stderr"
        },
        {
          "output_type": "stream",
          "text": [
            "Model: \"sequential\"\n",
            "_________________________________________________________________\n",
            "Layer (type)                 Output Shape              Param #   \n",
            "=================================================================\n",
            "embedding (Embedding)        (None, None, 16)          160000    \n",
            "_________________________________________________________________\n",
            "global_average_pooling1d (Gl (None, 16)                0         \n",
            "_________________________________________________________________\n",
            "dense (Dense)                (None, 16)                272       \n",
            "_________________________________________________________________\n",
            "dense_1 (Dense)              (None, 1)                 17        \n",
            "=================================================================\n",
            "Total params: 160,289\n",
            "Trainable params: 160,289\n",
            "Non-trainable params: 0\n",
            "_________________________________________________________________\n"
          ],
          "name": "stdout"
        }
      ]
    },
    {
      "cell_type": "code",
      "metadata": {
        "id": "_zvsiZ86X42T",
        "colab_type": "code",
        "outputId": "3bc1873e-82b7-4691-f16d-9955583fa2d3",
        "colab": {
          "base_uri": "https://localhost:8080/",
          "height": 92
        }
      },
      "source": [
        "model.compile(optimizer='adam',\n",
        "              loss='binary_crossentropy',\n",
        "              metrics=['acc'])"
      ],
      "execution_count": 0,
      "outputs": [
        {
          "output_type": "stream",
          "text": [
            "W0820 09:24:06.448828 140350785320832 deprecation.py:323] From /usr/local/lib/python3.6/dist-packages/tensorflow_core/python/ops/nn_impl.py:183: where (from tensorflow.python.ops.array_ops) is deprecated and will be removed in a future version.\n",
            "Instructions for updating:\n",
            "Use tf.where in 2.0, which has the same broadcast rule as np.where\n"
          ],
          "name": "stderr"
        }
      ]
    },
    {
      "cell_type": "code",
      "metadata": {
        "id": "lAE4CFIrYBbY",
        "colab_type": "code",
        "colab": {}
      },
      "source": [
        "x_val = train_data[:10000]\n",
        "partial_x_train = train_data[10000:]\n",
        "\n",
        "y_val = train_labels[:10000]\n",
        "partial_y_train = train_labels[10000:]\n"
      ],
      "execution_count": 0,
      "outputs": []
    },
    {
      "cell_type": "code",
      "metadata": {
        "id": "p2GN6VFHYFLx",
        "colab_type": "code",
        "outputId": "2343e606-8c48-4758-b504-45de6a3c24c3",
        "colab": {
          "base_uri": "https://localhost:8080/",
          "height": 1000
        }
      },
      "source": [
        "history = model.fit(partial_x_train,\n",
        "                    partial_y_train,\n",
        "                    epochs=40,\n",
        "                    batch_size=512,\n",
        "                    validation_data=(x_val, y_val),\n",
        "                    verbose=1)\n"
      ],
      "execution_count": 0,
      "outputs": [
        {
          "output_type": "stream",
          "text": [
            "Train on 15000 samples, validate on 10000 samples\n",
            "Epoch 1/40\n",
            "15000/15000 [==============================] - 1s 56us/sample - loss: 0.6918 - acc: 0.5873 - val_loss: 0.6899 - val_acc: 0.6747\n",
            "Epoch 2/40\n",
            "15000/15000 [==============================] - 1s 49us/sample - loss: 0.6862 - acc: 0.7027 - val_loss: 0.6819 - val_acc: 0.7193\n",
            "Epoch 3/40\n",
            "15000/15000 [==============================] - 1s 48us/sample - loss: 0.6738 - acc: 0.7369 - val_loss: 0.6660 - val_acc: 0.7304\n",
            "Epoch 4/40\n",
            "15000/15000 [==============================] - 1s 48us/sample - loss: 0.6513 - acc: 0.7596 - val_loss: 0.6396 - val_acc: 0.7358\n",
            "Epoch 5/40\n",
            "15000/15000 [==============================] - 1s 48us/sample - loss: 0.6176 - acc: 0.7827 - val_loss: 0.6043 - val_acc: 0.7757\n",
            "Epoch 6/40\n",
            "15000/15000 [==============================] - 1s 50us/sample - loss: 0.5752 - acc: 0.8087 - val_loss: 0.5633 - val_acc: 0.8076\n",
            "Epoch 7/40\n",
            "15000/15000 [==============================] - 1s 49us/sample - loss: 0.5277 - acc: 0.8316 - val_loss: 0.5188 - val_acc: 0.8218\n",
            "Epoch 8/40\n",
            "15000/15000 [==============================] - 1s 49us/sample - loss: 0.4801 - acc: 0.8494 - val_loss: 0.4776 - val_acc: 0.8347\n",
            "Epoch 9/40\n",
            "15000/15000 [==============================] - 1s 49us/sample - loss: 0.4358 - acc: 0.8648 - val_loss: 0.4407 - val_acc: 0.8456\n",
            "Epoch 10/40\n",
            "15000/15000 [==============================] - 1s 51us/sample - loss: 0.3967 - acc: 0.8747 - val_loss: 0.4102 - val_acc: 0.8532\n",
            "Epoch 11/40\n",
            "15000/15000 [==============================] - 1s 51us/sample - loss: 0.3636 - acc: 0.8841 - val_loss: 0.3849 - val_acc: 0.8610\n",
            "Epoch 12/40\n",
            "15000/15000 [==============================] - 1s 51us/sample - loss: 0.3356 - acc: 0.8904 - val_loss: 0.3651 - val_acc: 0.8639\n",
            "Epoch 13/40\n",
            "15000/15000 [==============================] - 1s 49us/sample - loss: 0.3126 - acc: 0.8970 - val_loss: 0.3481 - val_acc: 0.8700\n",
            "Epoch 14/40\n",
            "15000/15000 [==============================] - 1s 50us/sample - loss: 0.2920 - acc: 0.9023 - val_loss: 0.3354 - val_acc: 0.8725\n",
            "Epoch 15/40\n",
            "15000/15000 [==============================] - 1s 49us/sample - loss: 0.2748 - acc: 0.9061 - val_loss: 0.3253 - val_acc: 0.8743\n",
            "Epoch 16/40\n",
            "15000/15000 [==============================] - 1s 49us/sample - loss: 0.2593 - acc: 0.9116 - val_loss: 0.3166 - val_acc: 0.8754\n",
            "Epoch 17/40\n",
            "15000/15000 [==============================] - 1s 49us/sample - loss: 0.2451 - acc: 0.9162 - val_loss: 0.3094 - val_acc: 0.8781\n",
            "Epoch 18/40\n",
            "15000/15000 [==============================] - 1s 50us/sample - loss: 0.2326 - acc: 0.9211 - val_loss: 0.3035 - val_acc: 0.8806\n",
            "Epoch 19/40\n",
            "15000/15000 [==============================] - 1s 51us/sample - loss: 0.2213 - acc: 0.9234 - val_loss: 0.2982 - val_acc: 0.8816\n",
            "Epoch 20/40\n",
            "15000/15000 [==============================] - 1s 51us/sample - loss: 0.2111 - acc: 0.9274 - val_loss: 0.2945 - val_acc: 0.8826\n",
            "Epoch 21/40\n",
            "15000/15000 [==============================] - 1s 51us/sample - loss: 0.2008 - acc: 0.9329 - val_loss: 0.2914 - val_acc: 0.8832\n",
            "Epoch 22/40\n",
            "15000/15000 [==============================] - 1s 51us/sample - loss: 0.1921 - acc: 0.9365 - val_loss: 0.2893 - val_acc: 0.8840\n",
            "Epoch 23/40\n",
            "15000/15000 [==============================] - 1s 51us/sample - loss: 0.1834 - acc: 0.9405 - val_loss: 0.2881 - val_acc: 0.8831\n",
            "Epoch 24/40\n",
            "15000/15000 [==============================] - 1s 53us/sample - loss: 0.1759 - acc: 0.9436 - val_loss: 0.2861 - val_acc: 0.8844\n",
            "Epoch 25/40\n",
            "15000/15000 [==============================] - 1s 51us/sample - loss: 0.1683 - acc: 0.9466 - val_loss: 0.2851 - val_acc: 0.8849\n",
            "Epoch 26/40\n",
            "15000/15000 [==============================] - 1s 50us/sample - loss: 0.1614 - acc: 0.9493 - val_loss: 0.2855 - val_acc: 0.8834\n",
            "Epoch 27/40\n",
            "15000/15000 [==============================] - 1s 49us/sample - loss: 0.1549 - acc: 0.9518 - val_loss: 0.2850 - val_acc: 0.8847\n",
            "Epoch 28/40\n",
            "15000/15000 [==============================] - 1s 50us/sample - loss: 0.1488 - acc: 0.9541 - val_loss: 0.2851 - val_acc: 0.8850\n",
            "Epoch 29/40\n",
            "15000/15000 [==============================] - 1s 50us/sample - loss: 0.1434 - acc: 0.9571 - val_loss: 0.2875 - val_acc: 0.8833\n",
            "Epoch 30/40\n",
            "15000/15000 [==============================] - 1s 52us/sample - loss: 0.1378 - acc: 0.9593 - val_loss: 0.2864 - val_acc: 0.8860\n",
            "Epoch 31/40\n",
            "15000/15000 [==============================] - 1s 52us/sample - loss: 0.1321 - acc: 0.9605 - val_loss: 0.2877 - val_acc: 0.8855\n",
            "Epoch 32/40\n",
            "15000/15000 [==============================] - 1s 51us/sample - loss: 0.1270 - acc: 0.9638 - val_loss: 0.2892 - val_acc: 0.8863\n",
            "Epoch 33/40\n",
            "15000/15000 [==============================] - 1s 50us/sample - loss: 0.1221 - acc: 0.9657 - val_loss: 0.2915 - val_acc: 0.8851\n",
            "Epoch 34/40\n",
            "15000/15000 [==============================] - 1s 51us/sample - loss: 0.1178 - acc: 0.9666 - val_loss: 0.2931 - val_acc: 0.8857\n",
            "Epoch 35/40\n",
            "15000/15000 [==============================] - 1s 50us/sample - loss: 0.1136 - acc: 0.9685 - val_loss: 0.2964 - val_acc: 0.8848\n",
            "Epoch 36/40\n",
            "15000/15000 [==============================] - 1s 50us/sample - loss: 0.1093 - acc: 0.9704 - val_loss: 0.2979 - val_acc: 0.8843\n",
            "Epoch 37/40\n",
            "15000/15000 [==============================] - 1s 50us/sample - loss: 0.1051 - acc: 0.9719 - val_loss: 0.3002 - val_acc: 0.8832\n",
            "Epoch 38/40\n",
            "15000/15000 [==============================] - 1s 50us/sample - loss: 0.1013 - acc: 0.9730 - val_loss: 0.3036 - val_acc: 0.8831\n",
            "Epoch 39/40\n",
            "15000/15000 [==============================] - 1s 49us/sample - loss: 0.0981 - acc: 0.9741 - val_loss: 0.3070 - val_acc: 0.8820\n",
            "Epoch 40/40\n",
            "15000/15000 [==============================] - 1s 49us/sample - loss: 0.0942 - acc: 0.9761 - val_loss: 0.3090 - val_acc: 0.8826\n"
          ],
          "name": "stdout"
        }
      ]
    },
    {
      "cell_type": "code",
      "metadata": {
        "id": "k_-yR3rUYYN4",
        "colab_type": "code",
        "outputId": "d468b370-7f13-471b-e055-a0e1f4a17fff",
        "colab": {
          "base_uri": "https://localhost:8080/",
          "height": 54
        }
      },
      "source": [
        "results = model.evaluate(test_data, test_labels)\n",
        "\n",
        "print(results)\n"
      ],
      "execution_count": 0,
      "outputs": [
        {
          "output_type": "stream",
          "text": [
            "25000/25000 [==============================] - 1s 36us/sample - loss: 0.3300 - acc: 0.8724\n",
            "[0.3299943006324768, 0.87236]\n"
          ],
          "name": "stdout"
        }
      ]
    },
    {
      "cell_type": "code",
      "metadata": {
        "id": "j4RIWhzZYcb5",
        "colab_type": "code",
        "colab": {}
      },
      "source": [
        ""
      ],
      "execution_count": 0,
      "outputs": []
    },
    {
      "cell_type": "code",
      "metadata": {
        "id": "aJwcJpTMYjBH",
        "colab_type": "code",
        "colab": {}
      },
      "source": [
        ""
      ],
      "execution_count": 0,
      "outputs": []
    },
    {
      "cell_type": "code",
      "metadata": {
        "id": "K7ngSDbPYnW4",
        "colab_type": "code",
        "colab": {}
      },
      "source": [
        ""
      ],
      "execution_count": 0,
      "outputs": []
    }
  ]
}